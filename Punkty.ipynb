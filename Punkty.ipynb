{
 "cells": [
  {
   "cell_type": "code",
   "execution_count": null,
   "metadata": {},
   "outputs": [],
   "source": [
    "# ODLEGŁOŚĆ DWÓCH PUNKTÓW OD SIEBIE\n",
    "\n",
    "print('Podaj x1 i y1')\n",
    "(x1, y1) = ((float)(input()), (float)(input()))\n",
    "print('Podaj x2 i y2')\n",
    "(x2, y2) = ((float)(input()), (float)(input()))\n",
    "\n",
    "import math\n",
    "d = round(math.sqrt((x2-x1)**2 + (y2-y1)**2), 2)\n",
    "print('Odległość między tymi punktami wynosi:', d)"
   ]
  },
  {
   "cell_type": "code",
   "execution_count": 16,
   "metadata": {},
   "outputs": [
    {
     "name": "stdout",
     "output_type": "stream",
     "text": [
      "Podaj x1 i y1\n",
      "156\n",
      "0\n",
      "Podaj x2 i y2\n",
      "4894\n",
      "0\n",
      "Podaj x3 i y3\n",
      "1654\n",
      "0\n",
      "Punkty są współliniowe.\n"
     ]
    }
   ],
   "source": [
    "# CZY PUNKTY SĄ WSPÓŁLINIOWE\n",
    "\n",
    "import math\n",
    "\n",
    "print('Podaj x1 i y1')\n",
    "(x1, y1) = ((float)(input()), (float)(input()))\n",
    "print('Podaj x2 i y2')\n",
    "(x2, y2) = ((float)(input()), (float)(input()))\n",
    "print('Podaj x3 i y3')\n",
    "(x3, y3) = ((float)(input()), (float)(input()))\n",
    "\n",
    "if not x1==x2 and y1!=y2 and x1!=x3:\n",
    "    a = math.fabs(y2-y1)/math.fabs(x2-x1)\n",
    "    b = y1-a*x1\n",
    "\n",
    "    if a*x3+b == y3: \n",
    "        print(\"Punkty są współliniowe.\")\n",
    "elif x1==x2 and x1==x3 or y1==y2 and y1==y3: print(\"Punkty są współliniowe.\")\n",
    "else:\n",
    "    A = math.sqrt((x2-x1)**2 + (y2-y1)**2)\n",
    "    B = math.sqrt((x2-x3)**2 + (y2-y3)**2) \n",
    "    C = math.sqrt((x3-x1)**2 + (y3-y1)**2)\n",
    "    \n",
    "    if A==B or A==C or B==C:\n",
    "        if(A==B and A==C): print(\"Trójkąt jest równoboczny.\")\n",
    "        else: print(\"Trójkąt jest równoramienny.\")\n",
    "        \n",
    "    else: print(\"Trójkąt jest różnoboczny.\")\n",
    "    \n",
    "    if A**2 + B**2 == C**2 or A**2 + C**2 == B**2 or B**2 + C**2 == A**2:\n",
    "        print(\"Trójkąt jest prostokątny.\")\n"
   ]
  },
  {
   "cell_type": "code",
   "execution_count": null,
   "metadata": {},
   "outputs": [],
   "source": []
  }
 ],
 "metadata": {
  "kernelspec": {
   "display_name": "Python 3",
   "language": "python",
   "name": "python3"
  },
  "language_info": {
   "codemirror_mode": {
    "name": "ipython",
    "version": 3
   },
   "file_extension": ".py",
   "mimetype": "text/x-python",
   "name": "python",
   "nbconvert_exporter": "python",
   "pygments_lexer": "ipython3",
   "version": "3.7.6"
  }
 },
 "nbformat": 4,
 "nbformat_minor": 4
}
